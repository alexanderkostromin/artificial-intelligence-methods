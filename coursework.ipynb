{
  "cells": [
    {
      "cell_type": "code",
      "execution_count": null,
      "metadata": {
        "id": "g1ehuyFUE7wQ"
      },
      "outputs": [],
      "source": [
        "import matplotlib.pyplot as plt\n",
        "import numpy as np\n",
        "import pandas as pd\n",
        "import os\n",
        "import seaborn as sns\n",
        "from glob import glob\n",
        "from PIL import Image as img\n",
        "from sklearn.metrics import confusion_matrix\n",
        "from keras.utils.np_utils import to_categorical\n",
        "from keras.models import Sequential\n",
        "from keras.layers import Dense, Dropout, Flatten, Conv2D, MaxPool2D, BatchNormalization\n",
        "from sklearn.model_selection import train_test_split\n",
        "from scipy import stats\n",
        "from sklearn.preprocessing import LabelEncoder\n",
        "from sklearn.utils import resample\n",
        "import tensorflow as tf"
      ]
    },
    {
      "cell_type": "code",
      "execution_count": null,
      "metadata": {
        "colab": {
          "base_uri": "https://localhost:8080/"
        },
        "id": "1NZfY0WIbg8t",
        "outputId": "61643827-4b37-46b1-8d3d-3977a2b55e35"
      },
      "outputs": [
        {
          "output_type": "stream",
          "name": "stdout",
          "text": [
            "Mounted at /content/drive\n"
          ]
        }
      ],
      "source": [
        "from google.colab import drive\n",
        "drive.mount('/content/drive')"
      ]
    },
    {
      "cell_type": "code",
      "execution_count": null,
      "metadata": {
        "id": "L02Ea9cWNiQP"
      },
      "outputs": [],
      "source": [
        "!unzip drive/My\\ Drive/Data/SkinCancer.zip"
      ]
    },
    {
      "cell_type": "code",
      "execution_count": null,
      "metadata": {
        "colab": {
          "base_uri": "https://localhost:8080/"
        },
        "id": "DOww_z-fE7wR",
        "outputId": "5a6ba6f5-e32a-4830-f5b5-7b53ccb11665"
      },
      "outputs": [
        {
          "output_type": "stream",
          "name": "stdout",
          "text": [
            "Found GPU at: /device:GPU:0\n"
          ]
        }
      ],
      "source": [
        "device_name = tf.test.gpu_device_name()\n",
        "if \"GPU\" not in device_name:\n",
        "    print(\"GPU device not found\")\n",
        "print('Found GPU at: {}'.format(device_name))\n"
      ]
    },
    {
      "cell_type": "code",
      "execution_count": null,
      "metadata": {
        "colab": {
          "base_uri": "https://localhost:8080/",
          "height": 206
        },
        "id": "9XMqmvMjE7wS",
        "outputId": "b6a35ce8-2414-4c7b-e686-392d5752e345"
      },
      "outputs": [
        {
          "output_type": "execute_result",
          "data": {
            "text/plain": [
              "       image_id   dx\n",
              "0  ISIC_0027419  bkl\n",
              "1  ISIC_0025030  bkl\n",
              "2  ISIC_0026769  bkl\n",
              "3  ISIC_0025661  bkl\n",
              "4  ISIC_0031633  bkl"
            ],
            "text/html": [
              "\n",
              "  <div id=\"df-6bb474ba-3811-4a7a-9881-dd4e857ea160\">\n",
              "    <div class=\"colab-df-container\">\n",
              "      <div>\n",
              "<style scoped>\n",
              "    .dataframe tbody tr th:only-of-type {\n",
              "        vertical-align: middle;\n",
              "    }\n",
              "\n",
              "    .dataframe tbody tr th {\n",
              "        vertical-align: top;\n",
              "    }\n",
              "\n",
              "    .dataframe thead th {\n",
              "        text-align: right;\n",
              "    }\n",
              "</style>\n",
              "<table border=\"1\" class=\"dataframe\">\n",
              "  <thead>\n",
              "    <tr style=\"text-align: right;\">\n",
              "      <th></th>\n",
              "      <th>image_id</th>\n",
              "      <th>dx</th>\n",
              "    </tr>\n",
              "  </thead>\n",
              "  <tbody>\n",
              "    <tr>\n",
              "      <th>0</th>\n",
              "      <td>ISIC_0027419</td>\n",
              "      <td>bkl</td>\n",
              "    </tr>\n",
              "    <tr>\n",
              "      <th>1</th>\n",
              "      <td>ISIC_0025030</td>\n",
              "      <td>bkl</td>\n",
              "    </tr>\n",
              "    <tr>\n",
              "      <th>2</th>\n",
              "      <td>ISIC_0026769</td>\n",
              "      <td>bkl</td>\n",
              "    </tr>\n",
              "    <tr>\n",
              "      <th>3</th>\n",
              "      <td>ISIC_0025661</td>\n",
              "      <td>bkl</td>\n",
              "    </tr>\n",
              "    <tr>\n",
              "      <th>4</th>\n",
              "      <td>ISIC_0031633</td>\n",
              "      <td>bkl</td>\n",
              "    </tr>\n",
              "  </tbody>\n",
              "</table>\n",
              "</div>\n",
              "      <button class=\"colab-df-convert\" onclick=\"convertToInteractive('df-6bb474ba-3811-4a7a-9881-dd4e857ea160')\"\n",
              "              title=\"Convert this dataframe to an interactive table.\"\n",
              "              style=\"display:none;\">\n",
              "        \n",
              "  <svg xmlns=\"http://www.w3.org/2000/svg\" height=\"24px\"viewBox=\"0 0 24 24\"\n",
              "       width=\"24px\">\n",
              "    <path d=\"M0 0h24v24H0V0z\" fill=\"none\"/>\n",
              "    <path d=\"M18.56 5.44l.94 2.06.94-2.06 2.06-.94-2.06-.94-.94-2.06-.94 2.06-2.06.94zm-11 1L8.5 8.5l.94-2.06 2.06-.94-2.06-.94L8.5 2.5l-.94 2.06-2.06.94zm10 10l.94 2.06.94-2.06 2.06-.94-2.06-.94-.94-2.06-.94 2.06-2.06.94z\"/><path d=\"M17.41 7.96l-1.37-1.37c-.4-.4-.92-.59-1.43-.59-.52 0-1.04.2-1.43.59L10.3 9.45l-7.72 7.72c-.78.78-.78 2.05 0 2.83L4 21.41c.39.39.9.59 1.41.59.51 0 1.02-.2 1.41-.59l7.78-7.78 2.81-2.81c.8-.78.8-2.07 0-2.86zM5.41 20L4 18.59l7.72-7.72 1.47 1.35L5.41 20z\"/>\n",
              "  </svg>\n",
              "      </button>\n",
              "      \n",
              "  <style>\n",
              "    .colab-df-container {\n",
              "      display:flex;\n",
              "      flex-wrap:wrap;\n",
              "      gap: 12px;\n",
              "    }\n",
              "\n",
              "    .colab-df-convert {\n",
              "      background-color: #E8F0FE;\n",
              "      border: none;\n",
              "      border-radius: 50%;\n",
              "      cursor: pointer;\n",
              "      display: none;\n",
              "      fill: #1967D2;\n",
              "      height: 32px;\n",
              "      padding: 0 0 0 0;\n",
              "      width: 32px;\n",
              "    }\n",
              "\n",
              "    .colab-df-convert:hover {\n",
              "      background-color: #E2EBFA;\n",
              "      box-shadow: 0px 1px 2px rgba(60, 64, 67, 0.3), 0px 1px 3px 1px rgba(60, 64, 67, 0.15);\n",
              "      fill: #174EA6;\n",
              "    }\n",
              "\n",
              "    [theme=dark] .colab-df-convert {\n",
              "      background-color: #3B4455;\n",
              "      fill: #D2E3FC;\n",
              "    }\n",
              "\n",
              "    [theme=dark] .colab-df-convert:hover {\n",
              "      background-color: #434B5C;\n",
              "      box-shadow: 0px 1px 3px 1px rgba(0, 0, 0, 0.15);\n",
              "      filter: drop-shadow(0px 1px 2px rgba(0, 0, 0, 0.3));\n",
              "      fill: #FFFFFF;\n",
              "    }\n",
              "  </style>\n",
              "\n",
              "      <script>\n",
              "        const buttonEl =\n",
              "          document.querySelector('#df-6bb474ba-3811-4a7a-9881-dd4e857ea160 button.colab-df-convert');\n",
              "        buttonEl.style.display =\n",
              "          google.colab.kernel.accessAllowed ? 'block' : 'none';\n",
              "\n",
              "        async function convertToInteractive(key) {\n",
              "          const element = document.querySelector('#df-6bb474ba-3811-4a7a-9881-dd4e857ea160');\n",
              "          const dataTable =\n",
              "            await google.colab.kernel.invokeFunction('convertToInteractive',\n",
              "                                                     [key], {});\n",
              "          if (!dataTable) return;\n",
              "\n",
              "          const docLinkHtml = 'Like what you see? Visit the ' +\n",
              "            '<a target=\"_blank\" href=https://colab.research.google.com/notebooks/data_table.ipynb>data table notebook</a>'\n",
              "            + ' to learn more about interactive tables.';\n",
              "          element.innerHTML = '';\n",
              "          dataTable['output_type'] = 'display_data';\n",
              "          await google.colab.output.renderOutput(dataTable, element);\n",
              "          const docLink = document.createElement('div');\n",
              "          docLink.innerHTML = docLinkHtml;\n",
              "          element.appendChild(docLink);\n",
              "        }\n",
              "      </script>\n",
              "    </div>\n",
              "  </div>\n",
              "  "
            ]
          },
          "metadata": {},
          "execution_count": 5
        }
      ],
      "source": [
        "metadata = pd.read_csv(\"HAM10000_metadata.csv\")\n",
        "metadata.drop(['lesion_id','dx_type','age','sex','localization'],axis = 1,inplace = True)\n",
        "metadata.head(5)"
      ]
    },
    {
      "cell_type": "code",
      "execution_count": null,
      "metadata": {
        "colab": {
          "base_uri": "https://localhost:8080/"
        },
        "id": "yPiQx2B7E7wT",
        "outputId": "be60bb4c-3bde-49c1-e925-9dc5c34fd149"
      },
      "outputs": [
        {
          "output_type": "execute_result",
          "data": {
            "text/plain": [
              "nv       6705\n",
              "mel      1113\n",
              "bkl      1099\n",
              "bcc       514\n",
              "akiec     327\n",
              "vasc      142\n",
              "df        115\n",
              "Name: dx, dtype: int64"
            ]
          },
          "metadata": {},
          "execution_count": 6
        }
      ],
      "source": [
        "metadata.dx.value_counts()"
      ]
    },
    {
      "cell_type": "code",
      "execution_count": null,
      "metadata": {
        "id": "u1QKBXq2E7wT"
      },
      "outputs": [],
      "source": [
        "le = LabelEncoder()\n",
        "metadata['dx'] = le.fit_transform(metadata.dx)"
      ]
    },
    {
      "cell_type": "code",
      "execution_count": null,
      "metadata": {
        "id": "3wbdNUj4E7wT"
      },
      "outputs": [],
      "source": [
        "df1 = metadata[metadata.dx==0]\n",
        "df2 = metadata[metadata.dx==1]\n",
        "df3 = metadata[metadata.dx==2]\n",
        "df4 = metadata[metadata.dx==3]\n",
        "df5 = metadata[metadata.dx==4]\n",
        "df6 = metadata[metadata.dx==5]\n",
        "df7 = metadata[metadata.dx==6]"
      ]
    },
    {
      "cell_type": "code",
      "execution_count": null,
      "metadata": {
        "id": "fNAKBiD2E7wT"
      },
      "outputs": [],
      "source": [
        "samples = 200\n",
        "df1_balanced = resample(df1,replace = True,n_samples = samples,random_state = 2)\n",
        "df2_balanced = resample(df2,replace = True,n_samples = samples,random_state = 2)\n",
        "df3_balanced = resample(df3,replace = True,n_samples = samples,random_state = 2)\n",
        "df4_balanced = resample(df4,replace = True,n_samples = samples,random_state = 2)\n",
        "df5_balanced = resample(df5,replace = True,n_samples = samples,random_state = 2)\n",
        "df6_balanced = resample(df6,replace = True,n_samples = samples,random_state = 2)\n",
        "df7_balanced = resample(df7,replace = True,n_samples = samples,random_state = 2)"
      ]
    },
    {
      "cell_type": "code",
      "execution_count": null,
      "metadata": {
        "id": "UJCY35EUE7wU"
      },
      "outputs": [],
      "source": [
        "merged = pd.concat([df1_balanced,df2_balanced,df3_balanced,\n",
        "                  df4_balanced,df5_balanced,df6_balanced,df7_balanced])"
      ]
    },
    {
      "cell_type": "code",
      "execution_count": null,
      "metadata": {
        "id": "PiZJ1DINE7wU"
      },
      "outputs": [],
      "source": [
        "dir = \"/content/Skin Cancer\"\n",
        "id = [x.split('.')[0] for x in os.listdir(dir)]\n",
        "image_path = {x:os.path.join(dir,f'{x}.jpg') for x in id}"
      ]
    },
    {
      "cell_type": "code",
      "execution_count": null,
      "metadata": {
        "id": "m6IHGDelE7wV"
      },
      "outputs": [],
      "source": [
        "metadata['path'] = metadata.image_id.map(image_path.get)\n"
      ]
    },
    {
      "cell_type": "code",
      "execution_count": null,
      "metadata": {
        "id": "siSY68lxS2qF"
      },
      "outputs": [],
      "source": [
        "metadata['image'] = metadata.path.map(lambda x:np.asarray(img.open(x).resize((80,80))))"
      ]
    },
    {
      "cell_type": "code",
      "execution_count": null,
      "metadata": {
        "id": "I8Xpbk2cE7wW"
      },
      "outputs": [],
      "source": [
        "metadata.drop(['image_id','path'],axis = 1,inplace = True)"
      ]
    },
    {
      "cell_type": "code",
      "execution_count": null,
      "metadata": {
        "id": "OVNT_iyOE7wW"
      },
      "outputs": [],
      "source": [
        "metadata['image'] = metadata.image.apply(lambda x: x/255)"
      ]
    },
    {
      "cell_type": "code",
      "execution_count": null,
      "metadata": {
        "id": "cOWyNt3KE7wX"
      },
      "outputs": [],
      "source": [
        "x = np.asarray(metadata['image'].tolist())\n",
        "y = to_categorical(metadata['dx'],num_classes = 7)\n",
        "x_train,x_test,y_train,y_test = train_test_split(x,y,test_size = 0.25,random_state = 4)"
      ]
    },
    {
      "cell_type": "code",
      "execution_count": null,
      "metadata": {
        "colab": {
          "base_uri": "https://localhost:8080/"
        },
        "id": "aL0TqtZxE7wX",
        "outputId": "4025130c-dba1-4a99-bd2f-8206c56710d7"
      },
      "outputs": [
        {
          "output_type": "stream",
          "name": "stdout",
          "text": [
            "Model: \"sequential\"\n",
            "_________________________________________________________________\n",
            " Layer (type)                Output Shape              Param #   \n",
            "=================================================================\n",
            " conv2d (Conv2D)             (None, 78, 78, 256)       7168      \n",
            "                                                                 \n",
            " max_pooling2d (MaxPooling2D  (None, 39, 39, 256)      0         \n",
            " )                                                               \n",
            "                                                                 \n",
            " dropout (Dropout)           (None, 39, 39, 256)       0         \n",
            "                                                                 \n",
            " conv2d_1 (Conv2D)           (None, 37, 37, 128)       295040    \n",
            "                                                                 \n",
            " max_pooling2d_1 (MaxPooling  (None, 18, 18, 128)      0         \n",
            " 2D)                                                             \n",
            "                                                                 \n",
            " dropout_1 (Dropout)         (None, 18, 18, 128)       0         \n",
            "                                                                 \n",
            " conv2d_2 (Conv2D)           (None, 16, 16, 64)        73792     \n",
            "                                                                 \n",
            " max_pooling2d_2 (MaxPooling  (None, 8, 8, 64)         0         \n",
            " 2D)                                                             \n",
            "                                                                 \n",
            " dropout_2 (Dropout)         (None, 8, 8, 64)          0         \n",
            "                                                                 \n",
            " flatten (Flatten)           (None, 4096)              0         \n",
            "                                                                 \n",
            " dense (Dense)               (None, 32)                131104    \n",
            "                                                                 \n",
            " dense_1 (Dense)             (None, 7)                 231       \n",
            "                                                                 \n",
            "=================================================================\n",
            "Total params: 507,335\n",
            "Trainable params: 507,335\n",
            "Non-trainable params: 0\n",
            "_________________________________________________________________\n"
          ]
        }
      ],
      "source": [
        "num_classes = 7\n",
        "size = 80\n",
        "model = Sequential()\n",
        "model.add(Conv2D(256,(3,3), activation = \"relu\", input_shape = (size, size,3)))\n",
        "model.add(MaxPool2D(pool_size = (2,2)))\n",
        "model.add(Dropout(0.3))\n",
        "\n",
        "model.add(Conv2D(128,(3,3), activation = 'relu'))\n",
        "model.add(MaxPool2D(pool_size=(2,2)))\n",
        "model.add(Dropout(0.3))\n",
        "\n",
        "model.add(Conv2D(64,(3,3), activation = 'relu'))\n",
        "model.add(MaxPool2D(pool_size=(2,2)))\n",
        "model.add(Dropout(0.3))\n",
        "\n",
        "model.add(Flatten())\n",
        "model.add(Dense(32))\n",
        "model.add(Dense(7,activation = 'softmax'))\n",
        "model.summary()"
      ]
    },
    {
      "cell_type": "code",
      "execution_count": null,
      "metadata": {
        "colab": {
          "base_uri": "https://localhost:8080/"
        },
        "id": "oJsBFxsDE7wY",
        "outputId": "f52b2421-3957-4f30-eb2a-39af83612a1c"
      },
      "outputs": [
        {
          "output_type": "stream",
          "name": "stdout",
          "text": [
            "Epoch 1/50\n",
            "470/470 - 24s - loss: 1.0182 - acc: 0.6702 - val_loss: 1.0087 - val_acc: 0.6641 - 24s/epoch - 51ms/step\n",
            "Epoch 2/50\n",
            "470/470 - 10s - loss: 0.9424 - acc: 0.6755 - val_loss: 1.0172 - val_acc: 0.6621 - 10s/epoch - 22ms/step\n",
            "Epoch 3/50\n",
            "470/470 - 10s - loss: 0.8934 - acc: 0.6855 - val_loss: 0.8783 - val_acc: 0.6845 - 10s/epoch - 21ms/step\n",
            "Epoch 4/50\n",
            "470/470 - 10s - loss: 0.8649 - acc: 0.6897 - val_loss: 0.9440 - val_acc: 0.6921 - 10s/epoch - 21ms/step\n",
            "Epoch 5/50\n",
            "470/470 - 10s - loss: 0.8139 - acc: 0.7034 - val_loss: 0.8517 - val_acc: 0.6969 - 10s/epoch - 20ms/step\n",
            "Epoch 6/50\n",
            "470/470 - 10s - loss: 0.7930 - acc: 0.7126 - val_loss: 0.8049 - val_acc: 0.7065 - 10s/epoch - 21ms/step\n",
            "Epoch 7/50\n",
            "470/470 - 10s - loss: 0.7646 - acc: 0.7124 - val_loss: 0.9344 - val_acc: 0.6701 - 10s/epoch - 21ms/step\n",
            "Epoch 8/50\n",
            "470/470 - 10s - loss: 0.7577 - acc: 0.7205 - val_loss: 0.7954 - val_acc: 0.7077 - 10s/epoch - 20ms/step\n",
            "Epoch 9/50\n",
            "470/470 - 10s - loss: 0.7347 - acc: 0.7344 - val_loss: 0.8388 - val_acc: 0.6933 - 10s/epoch - 21ms/step\n",
            "Epoch 10/50\n",
            "470/470 - 10s - loss: 0.7268 - acc: 0.7267 - val_loss: 0.8061 - val_acc: 0.7065 - 10s/epoch - 22ms/step\n",
            "Epoch 11/50\n",
            "470/470 - 10s - loss: 0.7051 - acc: 0.7356 - val_loss: 0.7763 - val_acc: 0.7260 - 10s/epoch - 20ms/step\n",
            "Epoch 12/50\n",
            "470/470 - 10s - loss: 0.6957 - acc: 0.7398 - val_loss: 0.7789 - val_acc: 0.7117 - 10s/epoch - 22ms/step\n",
            "Epoch 13/50\n",
            "470/470 - 10s - loss: 0.6778 - acc: 0.7484 - val_loss: 0.7632 - val_acc: 0.7212 - 10s/epoch - 21ms/step\n",
            "Epoch 14/50\n",
            "470/470 - 10s - loss: 0.6755 - acc: 0.7453 - val_loss: 0.8070 - val_acc: 0.7121 - 10s/epoch - 22ms/step\n",
            "Epoch 15/50\n",
            "470/470 - 10s - loss: 0.6616 - acc: 0.7549 - val_loss: 0.7707 - val_acc: 0.7157 - 10s/epoch - 20ms/step\n",
            "Epoch 16/50\n",
            "470/470 - 10s - loss: 0.6488 - acc: 0.7612 - val_loss: 0.7711 - val_acc: 0.7248 - 10s/epoch - 21ms/step\n",
            "Epoch 17/50\n",
            "470/470 - 10s - loss: 0.6295 - acc: 0.7617 - val_loss: 0.7850 - val_acc: 0.7145 - 10s/epoch - 21ms/step\n",
            "Epoch 18/50\n",
            "470/470 - 10s - loss: 0.6272 - acc: 0.7630 - val_loss: 0.7710 - val_acc: 0.7141 - 10s/epoch - 22ms/step\n",
            "Epoch 19/50\n",
            "470/470 - 10s - loss: 0.6233 - acc: 0.7615 - val_loss: 0.7477 - val_acc: 0.7376 - 10s/epoch - 21ms/step\n",
            "Epoch 20/50\n",
            "470/470 - 10s - loss: 0.6168 - acc: 0.7726 - val_loss: 0.7382 - val_acc: 0.7340 - 10s/epoch - 22ms/step\n",
            "Epoch 21/50\n",
            "470/470 - 10s - loss: 0.6066 - acc: 0.7723 - val_loss: 0.7725 - val_acc: 0.7260 - 10s/epoch - 22ms/step\n",
            "Epoch 22/50\n",
            "470/470 - 10s - loss: 0.6025 - acc: 0.7674 - val_loss: 0.7275 - val_acc: 0.7404 - 10s/epoch - 21ms/step\n",
            "Epoch 23/50\n",
            "470/470 - 10s - loss: 0.5931 - acc: 0.7759 - val_loss: 0.7756 - val_acc: 0.7344 - 10s/epoch - 20ms/step\n",
            "Epoch 24/50\n",
            "470/470 - 10s - loss: 0.5842 - acc: 0.7798 - val_loss: 0.7266 - val_acc: 0.7364 - 10s/epoch - 22ms/step\n",
            "Epoch 25/50\n",
            "470/470 - 10s - loss: 0.5827 - acc: 0.7783 - val_loss: 0.7569 - val_acc: 0.7344 - 10s/epoch - 22ms/step\n",
            "Epoch 26/50\n",
            "470/470 - 10s - loss: 0.5627 - acc: 0.7794 - val_loss: 0.7223 - val_acc: 0.7340 - 10s/epoch - 22ms/step\n",
            "Epoch 27/50\n",
            "470/470 - 11s - loss: 0.5637 - acc: 0.7851 - val_loss: 0.7463 - val_acc: 0.7352 - 11s/epoch - 24ms/step\n",
            "Epoch 28/50\n",
            "470/470 - 10s - loss: 0.5597 - acc: 0.7894 - val_loss: 0.7446 - val_acc: 0.7348 - 10s/epoch - 22ms/step\n",
            "Epoch 29/50\n",
            "470/470 - 10s - loss: 0.5547 - acc: 0.7946 - val_loss: 0.7133 - val_acc: 0.7400 - 10s/epoch - 21ms/step\n",
            "Epoch 30/50\n",
            "470/470 - 10s - loss: 0.5509 - acc: 0.7922 - val_loss: 0.7456 - val_acc: 0.7392 - 10s/epoch - 21ms/step\n",
            "Epoch 31/50\n",
            "470/470 - 10s - loss: 0.5363 - acc: 0.7964 - val_loss: 0.7386 - val_acc: 0.7436 - 10s/epoch - 22ms/step\n",
            "Epoch 32/50\n",
            "470/470 - 10s - loss: 0.5447 - acc: 0.7943 - val_loss: 0.7465 - val_acc: 0.7396 - 10s/epoch - 22ms/step\n",
            "Epoch 33/50\n",
            "470/470 - 10s - loss: 0.5365 - acc: 0.7962 - val_loss: 0.7640 - val_acc: 0.7360 - 10s/epoch - 21ms/step\n",
            "Epoch 34/50\n",
            "470/470 - 10s - loss: 0.5222 - acc: 0.8016 - val_loss: 0.7599 - val_acc: 0.7316 - 10s/epoch - 21ms/step\n",
            "Epoch 35/50\n",
            "470/470 - 10s - loss: 0.5321 - acc: 0.7960 - val_loss: 0.7844 - val_acc: 0.7288 - 10s/epoch - 22ms/step\n",
            "Epoch 36/50\n",
            "470/470 - 10s - loss: 0.5205 - acc: 0.8052 - val_loss: 0.7647 - val_acc: 0.7376 - 10s/epoch - 21ms/step\n",
            "Epoch 37/50\n",
            "470/470 - 10s - loss: 0.5134 - acc: 0.8055 - val_loss: 0.7804 - val_acc: 0.7420 - 10s/epoch - 22ms/step\n",
            "Epoch 38/50\n",
            "470/470 - 11s - loss: 0.5123 - acc: 0.8042 - val_loss: 0.7750 - val_acc: 0.7416 - 11s/epoch - 22ms/step\n",
            "Epoch 39/50\n",
            "470/470 - 10s - loss: 0.4832 - acc: 0.8196 - val_loss: 0.7876 - val_acc: 0.7320 - 10s/epoch - 22ms/step\n",
            "Epoch 40/50\n",
            "470/470 - 10s - loss: 0.5088 - acc: 0.8056 - val_loss: 0.7737 - val_acc: 0.7364 - 10s/epoch - 21ms/step\n",
            "Epoch 41/50\n",
            "470/470 - 10s - loss: 0.5042 - acc: 0.8095 - val_loss: 0.7522 - val_acc: 0.7352 - 10s/epoch - 22ms/step\n",
            "Epoch 42/50\n",
            "470/470 - 10s - loss: 0.4907 - acc: 0.8124 - val_loss: 0.7797 - val_acc: 0.7364 - 10s/epoch - 22ms/step\n",
            "Epoch 43/50\n",
            "470/470 - 10s - loss: 0.4800 - acc: 0.8189 - val_loss: 0.8030 - val_acc: 0.7240 - 10s/epoch - 21ms/step\n",
            "Epoch 44/50\n",
            "470/470 - 10s - loss: 0.4835 - acc: 0.8169 - val_loss: 0.7751 - val_acc: 0.7400 - 10s/epoch - 21ms/step\n",
            "Epoch 45/50\n",
            "470/470 - 10s - loss: 0.5001 - acc: 0.8066 - val_loss: 0.7776 - val_acc: 0.7308 - 10s/epoch - 22ms/step\n",
            "Epoch 46/50\n",
            "470/470 - 10s - loss: 0.4877 - acc: 0.8164 - val_loss: 0.7723 - val_acc: 0.7276 - 10s/epoch - 22ms/step\n",
            "Epoch 47/50\n",
            "470/470 - 10s - loss: 0.4800 - acc: 0.8231 - val_loss: 0.7940 - val_acc: 0.7296 - 10s/epoch - 21ms/step\n",
            "Epoch 48/50\n",
            "470/470 - 10s - loss: 0.4668 - acc: 0.8207 - val_loss: 0.7737 - val_acc: 0.7372 - 10s/epoch - 21ms/step\n",
            "Epoch 49/50\n",
            "470/470 - 10s - loss: 0.4779 - acc: 0.8217 - val_loss: 0.7915 - val_acc: 0.7272 - 10s/epoch - 22ms/step\n",
            "Epoch 50/50\n",
            "470/470 - 10s - loss: 0.4785 - acc: 0.8231 - val_loss: 0.7962 - val_acc: 0.7368 - 10s/epoch - 22ms/step\n",
            "79/79 [==============================] - 1s 10ms/step - loss: 0.7962 - acc: 0.7368\n"
          ]
        },
        {
          "output_type": "execute_result",
          "data": {
            "text/plain": [
              "[0.7962316870689392, 0.7368211150169373]"
            ]
          },
          "metadata": {},
          "execution_count": 19
        }
      ],
      "source": [
        "model.compile(loss  = 'categorical_crossentropy', optimizer = 'Adam', metrics = 'acc')\n",
        "batch_size = 16\n",
        "epochs = 50\n",
        "history = model.fit(x_train, y_train,epochs = epochs, batch_size= batch_size,\n",
        "                   validation_data = (x_test, y_test), verbose = 2)\n",
        "model.evaluate(x_test,y_test)"
      ]
    },
    {
      "cell_type": "code",
      "execution_count": null,
      "metadata": {
        "id": "9dXpxKgNE7wY",
        "colab": {
          "base_uri": "https://localhost:8080/",
          "height": 451
        },
        "outputId": "39c15a00-a588-4b1d-d5f8-ec6e9e8ffaa5"
      },
      "outputs": [
        {
          "output_type": "execute_result",
          "data": {
            "text/plain": [
              "<matplotlib.image.AxesImage at 0x7f9da1192550>"
            ]
          },
          "metadata": {},
          "execution_count": 20
        },
        {
          "output_type": "display_data",
          "data": {
            "text/plain": [
              "<Figure size 640x480 with 1 Axes>"
            ],
            "image/png": "[encoded data removed]"
          },
          "metadata": {}
        }
      ],
      "source": [
        "plt.imshow(x_test[0])"
      ]
    },
    {
      "cell_type": "code",
      "execution_count": null,
      "metadata": {
        "id": "LTpjovAmE7wZ"
      },
      "outputs": [],
      "source": [
        "p = x_test[42].reshape([1,80,80,3])"
      ]
    },
    {
      "cell_type": "code",
      "execution_count": null,
      "metadata": {
        "id": "HtpRf02zE7wZ",
        "colab": {
          "base_uri": "https://localhost:8080/"
        },
        "outputId": "d78fe672-325a-4dee-d048-07638788202d"
      },
      "outputs": [
        {
          "output_type": "stream",
          "name": "stdout",
          "text": [
            "1/1 [==============================] - 0s 200ms/step\n",
            "[0.038, 0.789, 0.096, 0.021, 0.003, 0.051, 0.002]\n",
            "[0. 1. 0. 0. 0. 0. 0.]\n"
          ]
        }
      ],
      "source": [
        "print([round(x,3) for x in model.predict(p)[0]])\n",
        "print(y_test[42])"
      ]
    },
    {
      "cell_type": "code",
      "execution_count": null,
      "metadata": {
        "id": "arvksmOBZzmm"
      },
      "outputs": [],
      "source": [
        "model.save(\"skin_cancer.h5\")"
      ]
    },
    {
      "cell_type": "code",
      "execution_count": null,
      "metadata": {
        "colab": {
          "base_uri": "https://localhost:8080/",
          "height": 430
        },
        "id": "fMs5Y5MXapvm",
        "outputId": "e4de6ab1-d225-4e14-d633-25837f3f610a"
      },
      "outputs": [
        {
          "output_type": "display_data",
          "data": {
            "text/plain": [
              "<Figure size 640x480 with 1 Axes>"
            ],
            "image/png": "[encoded data removed]"
          },
          "metadata": {}
        }
      ],
      "source": [
        "# plt.plot(history.history['loss'])\n",
        "# plt.plot(history.history['acc'])\n",
        "plt.plot(history.history['val_loss'])\n",
        "plt.plot(history.history['val_acc'])\n",
        "plt.show()"
      ]
    }
  ],
  "metadata": {
    "accelerator": "GPU",
    "colab": {
      "provenance": []
    },
    "gpuClass": "standard",
    "kernelspec": {
      "display_name": "Python 3 (ipykernel)",
      "language": "python",
      "name": "python3"
    },
    "language_info": {
      "codemirror_mode": {
        "name": "ipython",
        "version": 3
      },
      "file_extension": ".py",
      "mimetype": "text/x-python",
      "name": "python",
      "nbconvert_exporter": "python",
      "pygments_lexer": "ipython3",
      "version": "3.8.5"
    }
  },
  "nbformat": 4,
  "nbformat_minor": 0
}